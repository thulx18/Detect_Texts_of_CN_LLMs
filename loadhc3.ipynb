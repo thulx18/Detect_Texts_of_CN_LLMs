{
 "cells": [
  {
   "cell_type": "code",
   "execution_count": null,
   "metadata": {},
   "outputs": [],
   "source": [
    "import json\n",
    "from tqdm import tqdm"
   ]
  },
  {
   "cell_type": "code",
   "execution_count": null,
   "metadata": {},
   "outputs": [],
   "source": [
    "q = []\n",
    "with open(\"HC3/all.jsonl\", \"r\", encoding=\"utf-8\") as f:\n",
    "    for line in f.readlines():\n",
    "        line = json.loads(line)\n",
    "        q.append(line[\"question\"].replace('\\n', ' ').replace('\\t', ' '))\n",
    "print(len(q))\n",
    "print(q[1])"
   ]
  },
  {
   "cell_type": "code",
   "execution_count": null,
   "metadata": {},
   "outputs": [],
   "source": [
    "from transformers import AutoModelForCausalLM, AutoTokenizer\n",
    "\n",
    "tokenizer = AutoTokenizer.from_pretrained(\"bigscience/bloomz-1b7\")\n",
    "model = AutoModelForCausalLM.from_pretrained(\"bigscience/bloomz-1b7\", torch_dtype=\"auto\", device_map=\"auto\")\n",
    "\n",
    "with open(\"HC3/bloomz-1b7\", \"w\", encoding=\"utf-8\") as w:\n",
    "    for i in tqdm(range(len(q))):\n",
    "        text = q[i]\n",
    "        inputs = tokenizer.encode(text, return_tensors=\"pt\").to(\"cuda\")\n",
    "        outputs = model.generate(inputs)\n",
    "        output = tokenizer.decode(outputs[0])\n",
    "        w.write(output)\n",
    "        w.write('\\n')\n"
   ]
  },
  {
   "cell_type": "code",
   "execution_count": 26,
   "metadata": {},
   "outputs": [],
   "source": [
    "from transformers import pipeline, set_seed\n",
    "generator = pipeline('text-generation', model='gpt2', device=0)\n",
    "set_seed(42)\n",
    "\n",
    "with open(\"HC3/gpt2\", \"w\", encoding=\"utf-8\") as w:\n",
    "    for i in tqdm(range(len(q))):\n",
    "        try:\n",
    "            text = q[i]\n",
    "            output = generator(text, min_length=64, max_length=512)\n",
    "        except Exception as e:\n",
    "            output = f\"{i} error: {e}\"\n",
    "        finally:\n",
    "            w.write(str(output))\n",
    "            w.write('\\n')\n"
   ]
  },
  {
   "cell_type": "code",
   "execution_count": null,
   "metadata": {},
   "outputs": [],
   "source": [
    "from transformers import pipeline\n",
    "generator = pipeline('text-generation', model='EleutherAI/gpt-neo-1.3B', device=0)\n",
    "\n",
    "with open(\"HC3/gpt-neo-1.3B\", \"w\", encoding=\"utf-8\") as w:\n",
    "    for i in tqdm(range(len(q))):\n",
    "        text = q[i]\n",
    "        output = generator(text, min_length=64, max_length=512)\n",
    "        w.write(output)\n",
    "        w.write('\\n')"
   ]
  }
 ],
 "metadata": {
  "kernelspec": {
   "display_name": "Python 3",
   "language": "python",
   "name": "python3"
  },
  "language_info": {
   "codemirror_mode": {
    "name": "ipython",
    "version": 3
   },
   "file_extension": ".py",
   "mimetype": "text/x-python",
   "name": "python",
   "nbconvert_exporter": "python",
   "pygments_lexer": "ipython3",
   "version": "3.9.13"
  },
  "orig_nbformat": 4
 },
 "nbformat": 4,
 "nbformat_minor": 2
}
