{
 "cells": [
  {
   "cell_type": "code",
   "execution_count": 10,
   "metadata": {},
   "outputs": [],
   "source": [
    "import json\n",
    "from tqdm import tqdm"
   ]
  },
  {
   "cell_type": "code",
   "execution_count": null,
   "metadata": {},
   "outputs": [],
   "source": [
    "q = []\n",
    "with open(\"HC3/all.jsonl\", \"r\", encoding=\"utf-8\") as f:\n",
    "    for line in f.readlines():\n",
    "        line = json.loads(line)\n",
    "        q.append(line[\"question\"].replace('\\n', ' ').replace('\\t', ' '))\n",
    "print(len(q))\n",
    "print(q[1])"
   ]
  },
  {
   "cell_type": "code",
   "execution_count": null,
   "metadata": {},
   "outputs": [],
   "source": [
    "from transformers import AutoModelForCausalLM, AutoTokenizer\n",
    "\n",
    "tokenizer = AutoTokenizer.from_pretrained(\"bigscience/bloomz-1b7\")\n",
    "model = AutoModelForCausalLM.from_pretrained(\"bigscience/bloomz-1b7\", torch_dtype=\"auto\", device_map=\"auto\")\n",
    "\n",
    "with open(\"HC3/bloomz-1b7\", \"w\", encoding=\"utf-8\") as w:\n",
    "    for i in tqdm(range(len(q))):\n",
    "        text = q[i]\n",
    "        input = tokenizer.encode(text, return_tensors=\"pt\").to(\"cuda\")\n",
    "        output = tokenizer.decode(model.generate(input))\n",
    "        w.write(output)\n",
    "        w.write()\n"
   ]
  },
  {
   "cell_type": "code",
   "execution_count": null,
   "metadata": {},
   "outputs": [],
   "source": [
    "from transformers import GPT2Tokenizer, GPT2Model\n",
    "\n",
    "tokenizer = GPT2Tokenizer.from_pretrained('gpt2')\n",
    "model = GPT2Model.from_pretrained('gpt2').cuda()\n",
    "\n",
    "with open(\"HC3/gpt2\", \"w\", encoding=\"utf-8\") as w:\n",
    "    for i in tqdm(range(len(q))):\n",
    "        text = q[i]\n",
    "        encoded_input = tokenizer(text, return_tensors='pt').to(\"cuda\")\n",
    "        output = model(**encoded_input)\n",
    "        w.write(output)\n",
    "        w.write()"
   ]
  },
  {
   "cell_type": "code",
   "execution_count": null,
   "metadata": {},
   "outputs": [],
   "source": [
    "from transformers import pipeline\n",
    "generator = pipeline('text-generation', model='EleutherAI/gpt-neo-1.3B')\n",
    "\n",
    "with open(\"HC3/gpt-neo-1.3B\", \"w\", encoding=\"utf-8\") as w:\n",
    "    for i in tqdm(range(len(q))):\n",
    "        text = q[i]\n",
    "        output = generator(\"text\", do_sample=True, min_length=50)\n",
    "        w.write(output)\n",
    "        w.write()"
   ]
  }
 ],
 "metadata": {
  "kernelspec": {
   "display_name": "Python 3",
   "language": "python",
   "name": "python3"
  },
  "language_info": {
   "codemirror_mode": {
    "name": "ipython",
    "version": 3
   },
   "file_extension": ".py",
   "mimetype": "text/x-python",
   "name": "python",
   "nbconvert_exporter": "python",
   "pygments_lexer": "ipython3",
   "version": "3.9.13"
  },
  "orig_nbformat": 4
 },
 "nbformat": 4,
 "nbformat_minor": 2
}
