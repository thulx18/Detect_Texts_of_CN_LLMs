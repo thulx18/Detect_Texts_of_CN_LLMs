{
 "cells": [
  {
   "cell_type": "code",
   "execution_count": 3,
   "metadata": {},
   "outputs": [],
   "source": [
    "import pandas as pd\n",
    "import jieba\n",
    "from tqdm import tqdm\n",
    "from sklearn.feature_extraction.text import TfidfVectorizer\n",
    "from sklearn.model_selection import train_test_split\n",
    "from sklearn.linear_model import SGDClassifier\n",
    "from sklearn.ensemble import VotingClassifier"
   ]
  },
  {
   "cell_type": "code",
   "execution_count": 4,
   "metadata": {},
   "outputs": [],
   "source": [
    "df = pd.read_json('data.json', lines=True)\n",
    "text = df['text'].to_list()\n",
    "jieba_text = []\n",
    "for i in tqdm(range(len(text))):\n",
    "    t = \" \".join(list(jieba.cut(text[i])))\n",
    "    jieba_text.append(t)\n",
    "label = df['label'].to_list()\n",
    "label_to_idx = {\n",
    "    \"human\": 0,\n",
    "    \"baichuan\": 1,\n",
    "    \"qwen\": 2\n",
    "}\n",
    "idx = [label_to_idx[i] for i in label]\n",
    "X_train, X_test, y_train, y_test = train_test_split(jieba_text, idx, test_size=0.2, random_state=2023)"
   ]
  },
  {
   "cell_type": "code",
   "execution_count": 5,
   "metadata": {},
   "outputs": [
    {
     "name": "stdout",
     "output_type": "stream",
     "text": [
      "(16039, 5485023) (4010, 5485023)\n"
     ]
    }
   ],
   "source": [
    "min_ngram = 1\n",
    "max_ngram = 5\n",
    "vectorizer = TfidfVectorizer(ngram_range=(min_ngram, max_ngram),sublinear_tf=True)\n",
    "X_train = vectorizer.fit_transform(X_train)\n",
    "X_test = vectorizer.transform(X_test)\n",
    "print(X_train.shape, X_test.shape)"
   ]
  },
  {
   "cell_type": "code",
   "execution_count": 6,
   "metadata": {},
   "outputs": [],
   "source": [
    "def create_models(random_state=None):\n",
    "    # Logistic Regression\n",
    "    # lr_model = LogisticRegression(solver=\"liblinear\")\n",
    "    # SGD\n",
    "    sgd_model = SGDClassifier(max_iter=5000, tol=1e-3, loss=\"modified_huber\", \n",
    "                              random_state=random_state)  \n",
    "    sgd_model2 = SGDClassifier(max_iter=5000, tol=1e-3, loss=\"modified_huber\", \n",
    "                               random_state=(random_state + 1000) if random_state is not None else None, \n",
    "                               class_weight=\"balanced\") \n",
    "    sgd_model3 = SGDClassifier(max_iter=10000, tol=5e-4, loss=\"modified_huber\", \n",
    "                               random_state=(random_state + 2000) if random_state is not None else None, \n",
    "                               early_stopping=True)  \n",
    "    # SVC\n",
    "    # svc_model = SVC(probability=True)\n",
    "    \n",
    "    # Voting Classifier\n",
    "    estimators=[\n",
    "        ('sgd1', sgd_model), \n",
    "        ('sgd2', sgd_model2),\n",
    "        ('sgd3', sgd_model3),\n",
    "    ]\n",
    "    # Create the ensemble model\n",
    "    ensemble = VotingClassifier(\n",
    "        estimators=estimators,\n",
    "    #     weights=weights,\n",
    "        voting='soft',\n",
    "        verbose=0,\n",
    "    )\n",
    "    \n",
    "    return ensemble"
   ]
  },
  {
   "cell_type": "code",
   "execution_count": 7,
   "metadata": {},
   "outputs": [],
   "source": [
    "ensemble = create_models(0)\n",
    "ensemble.fit(X_train, y_train)\n",
    "preds_test = ensemble.predict(X_test)"
   ]
  },
  {
   "cell_type": "code",
   "execution_count": 8,
   "metadata": {},
   "outputs": [
    {
     "name": "stdout",
     "output_type": "stream",
     "text": [
      "0.8413965087281795\n"
     ]
    }
   ],
   "source": [
    "right_num = 0\n",
    "with open(\"result.csv\", 'w', encoding='utf-8') as w:\n",
    "    for i in range(len(preds_test)):\n",
    "        if y_test[i] == preds_test[i]:\n",
    "            right_num += 1\n",
    "        w.write(f\"{y_test[i]}\\t{preds_test[i]}\\n\")\n",
    "print(right_num / len(preds_test))"
   ]
  }
 ],
 "metadata": {
  "interpreter": {
   "hash": "e169789a8a24bd293e0e567b1a4f7ab47d7e5c50178991eeca607254e2c130d4"
  },
  "kernelspec": {
   "display_name": "Python 3.8.9 64-bit (system)",
   "language": "python",
   "name": "python3"
  },
  "language_info": {
   "codemirror_mode": {
    "name": "ipython",
    "version": 3
   },
   "file_extension": ".py",
   "mimetype": "text/x-python",
   "name": "python",
   "nbconvert_exporter": "python",
   "pygments_lexer": "ipython3",
   "version": "3.9.13"
  },
  "orig_nbformat": 4
 },
 "nbformat": 4,
 "nbformat_minor": 2
}
